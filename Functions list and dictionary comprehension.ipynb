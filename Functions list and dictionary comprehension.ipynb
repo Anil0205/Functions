{
 "cells": [
  {
   "cell_type": "markdown",
   "id": "8ff6f3a7",
   "metadata": {},
   "source": [
    "## Functions"
   ]
  },
  {
   "cell_type": "code",
   "execution_count": 1,
   "id": "80689bda",
   "metadata": {},
   "outputs": [
    {
     "name": "stdout",
     "output_type": "stream",
     "text": [
      "python\n"
     ]
    }
   ],
   "source": [
    "print('python')"
   ]
  },
  {
   "cell_type": "code",
   "execution_count": 5,
   "id": "bc3fca8b",
   "metadata": {},
   "outputs": [],
   "source": [
    "def Anil():\n",
    "    print('python')"
   ]
  },
  {
   "cell_type": "code",
   "execution_count": 3,
   "id": "1270b0cc",
   "metadata": {},
   "outputs": [
    {
     "name": "stdout",
     "output_type": "stream",
     "text": [
      "python\n"
     ]
    }
   ],
   "source": [
    "Anil()"
   ]
  },
  {
   "cell_type": "code",
   "execution_count": 6,
   "id": "6fdcd51b",
   "metadata": {},
   "outputs": [
    {
     "name": "stdout",
     "output_type": "stream",
     "text": [
      "1\n",
      "\n",
      "2\n"
     ]
    }
   ],
   "source": [
    "def Anil(x,y):\n",
    "    print(x)\n",
    "    print()\n",
    "    print(y)\n",
    "a=1\n",
    "b=2\n",
    "Anil(a,b)\n",
    "    "
   ]
  },
  {
   "cell_type": "code",
   "execution_count": 7,
   "id": "9895f149",
   "metadata": {},
   "outputs": [
    {
     "name": "stdout",
     "output_type": "stream",
     "text": [
      "10\n",
      "\n",
      "20\n"
     ]
    }
   ],
   "source": [
    "def Anil(x,y):\n",
    "    print(x)\n",
    "    print()\n",
    "    print(y)\n",
    "a=10\n",
    "b=20\n",
    "Anil(a,b)"
   ]
  },
  {
   "cell_type": "code",
   "execution_count": 9,
   "id": "09ca6691",
   "metadata": {},
   "outputs": [
    {
     "name": "stdout",
     "output_type": "stream",
     "text": [
      "python\n",
      "Value is =  10\n"
     ]
    }
   ],
   "source": [
    "def fun(a):\n",
    "    print('python')\n",
    "    print('Value is = ',a)\n",
    "fun(10)"
   ]
  },
  {
   "cell_type": "code",
   "execution_count": 11,
   "id": "62325dca",
   "metadata": {},
   "outputs": [
    {
     "name": "stdout",
     "output_type": "stream",
     "text": [
      "python\n",
      "value is =  10\n"
     ]
    }
   ],
   "source": [
    "def fun(a):\n",
    "    print('python')\n",
    "    print('value is = ',a)\n",
    "fun(10)"
   ]
  },
  {
   "cell_type": "code",
   "execution_count": 12,
   "id": "9e7b5a57",
   "metadata": {},
   "outputs": [
    {
     "name": "stdout",
     "output_type": "stream",
     "text": [
      "even\n"
     ]
    }
   ],
   "source": [
    "a=2\n",
    "if a%2==0:\n",
    "    print('even')\n",
    "else:\n",
    "    print('odd')"
   ]
  },
  {
   "cell_type": "code",
   "execution_count": 13,
   "id": "829ad982",
   "metadata": {},
   "outputs": [
    {
     "name": "stdout",
     "output_type": "stream",
     "text": [
      "even\n"
     ]
    }
   ],
   "source": [
    "a=2\n",
    "if a%2==0:\n",
    "    print('even')\n",
    "else:\n",
    "    print('odd')"
   ]
  },
  {
   "cell_type": "code",
   "execution_count": 14,
   "id": "cbbd978f",
   "metadata": {},
   "outputs": [
    {
     "name": "stdout",
     "output_type": "stream",
     "text": [
      "even\n"
     ]
    }
   ],
   "source": [
    "def fun(a):\n",
    "    if a%2==0:\n",
    "        print('even')\n",
    "    else:\n",
    "        print('odd')\n",
    "fun(2)"
   ]
  },
  {
   "cell_type": "code",
   "execution_count": 15,
   "id": "f483b177",
   "metadata": {},
   "outputs": [
    {
     "data": {
      "text/plain": [
       "'even'"
      ]
     },
     "execution_count": 15,
     "metadata": {},
     "output_type": "execute_result"
    }
   ],
   "source": [
    "def fun(a):\n",
    "    if a%2==0:\n",
    "        return 'even'\n",
    "    else:\n",
    "        return 'odd'\n",
    "fun(2)"
   ]
  },
  {
   "cell_type": "code",
   "execution_count": 16,
   "id": "752fc513",
   "metadata": {},
   "outputs": [
    {
     "name": "stdout",
     "output_type": "stream",
     "text": [
      "even\n"
     ]
    }
   ],
   "source": [
    "def fun(a):\n",
    "    if a%2==0:\n",
    "        return 'even'\n",
    "    else:\n",
    "        return 'odd'\n",
    "b=fun(2)\n",
    "print(b)"
   ]
  },
  {
   "cell_type": "code",
   "execution_count": 17,
   "id": "1827c51a",
   "metadata": {},
   "outputs": [
    {
     "name": "stdout",
     "output_type": "stream",
     "text": [
      "eveen\n"
     ]
    }
   ],
   "source": [
    "def fun(a):\n",
    "    if a%2==0:\n",
    "        return 'eveen'\n",
    "    else:\n",
    "        return 'odd'\n",
    "b=fun(2)\n",
    "print(b)\n"
   ]
  },
  {
   "cell_type": "code",
   "execution_count": 18,
   "id": "526b6f71",
   "metadata": {},
   "outputs": [
    {
     "name": "stdout",
     "output_type": "stream",
     "text": [
      "30\n",
      "200\n"
     ]
    }
   ],
   "source": [
    "def multiply(a,b):\n",
    "    result1=a+b\n",
    "    result2=a*b\n",
    "    return result1,result2\n",
    "sum1,product=multiply(10,20)\n",
    "print(sum1)\n",
    "print(product)"
   ]
  },
  {
   "cell_type": "code",
   "execution_count": 19,
   "id": "4ff82941",
   "metadata": {},
   "outputs": [
    {
     "name": "stdout",
     "output_type": "stream",
     "text": [
      "30\n",
      "200\n"
     ]
    }
   ],
   "source": [
    "def multiply(a,b):\n",
    "    result1=a+b\n",
    "    result2=a*b\n",
    "    return result1,result2\n",
    "sum1,product=multiply(10,20)\n",
    "print(sum1)\n",
    "print(product)"
   ]
  },
  {
   "cell_type": "code",
   "execution_count": 22,
   "id": "17b09f58",
   "metadata": {},
   "outputs": [
    {
     "name": "stdout",
     "output_type": "stream",
     "text": [
      "1 2 3 4 5 6 7 8 9 10 11 "
     ]
    }
   ],
   "source": [
    "def fun (x):\n",
    "    for i in x:\n",
    "        print(i,end=' ')\n",
    "a=[1,2,3,4,5,6,7,8,9,10,11]\n",
    "fun(a)"
   ]
  },
  {
   "cell_type": "code",
   "execution_count": 23,
   "id": "3f5b8581",
   "metadata": {},
   "outputs": [
    {
     "name": "stdout",
     "output_type": "stream",
     "text": [
      "1 2 3 4 5 6 7 8 9 10 "
     ]
    }
   ],
   "source": [
    "def fun(x):\n",
    "    for i in x:\n",
    "        print(i,end=\" \")\n",
    "a=[1,2,3,4,5,6,7,8,9,10]\n",
    "fun(a)"
   ]
  },
  {
   "cell_type": "code",
   "execution_count": 26,
   "id": "d565b4ae",
   "metadata": {},
   "outputs": [
    {
     "name": "stdout",
     "output_type": "stream",
     "text": [
      "2\n",
      "4\n",
      "6\n",
      "8\n",
      "10\n"
     ]
    }
   ],
   "source": [
    "def check(a):\n",
    "    for i in a:\n",
    "        if i%2==0:\n",
    "            print(i)\n",
    "check([1,2,3,4,5,6,7,8,9,10,11])"
   ]
  },
  {
   "cell_type": "code",
   "execution_count": 28,
   "id": "434f0387",
   "metadata": {},
   "outputs": [
    {
     "name": "stdout",
     "output_type": "stream",
     "text": [
      "course is  python age is = 50\n"
     ]
    }
   ],
   "source": [
    "def fun1(age,name):\n",
    "    print('course is ',name,'age is =',age)\n",
    "age=50\n",
    "name='python'\n",
    "fun1(age,name)"
   ]
  },
  {
   "cell_type": "code",
   "execution_count": 29,
   "id": "84abbea2",
   "metadata": {},
   "outputs": [
    {
     "name": "stdout",
     "output_type": "stream",
     "text": [
      "course is  python age is =  50\n"
     ]
    }
   ],
   "source": [
    "def fun1(age , name):\n",
    "    print(\"course is \" , name , \"age is = \",age)\n",
    "\n",
    "age = 50\n",
    "name = \"python\"\n",
    "\n",
    "fun1(age , name)"
   ]
  },
  {
   "cell_type": "code",
   "execution_count": 30,
   "id": "71b561f0",
   "metadata": {},
   "outputs": [
    {
     "name": "stdout",
     "output_type": "stream",
     "text": [
      "course is  python age is =  50\n"
     ]
    }
   ],
   "source": [
    "def fun1(age,name):\n",
    "    print('course is ',name,'age is = ',age)\n",
    "fun1(age,name)"
   ]
  },
  {
   "cell_type": "markdown",
   "id": "8dc91e88",
   "metadata": {},
   "source": [
    "## List comprehesion"
   ]
  },
  {
   "cell_type": "code",
   "execution_count": 31,
   "id": "1d46fc7f",
   "metadata": {},
   "outputs": [
    {
     "name": "stdout",
     "output_type": "stream",
     "text": [
      "1\n",
      "2\n",
      "3\n",
      "4\n",
      "5\n"
     ]
    }
   ],
   "source": [
    "#### List comprehension\n",
    "a=[1,2,3,4,5]\n",
    "for i in a:\n",
    "    print(i)"
   ]
  },
  {
   "cell_type": "code",
   "execution_count": 33,
   "id": "3b10a945",
   "metadata": {},
   "outputs": [
    {
     "name": "stdout",
     "output_type": "stream",
     "text": [
      "[1, 2, 3, 4, 5]\n"
     ]
    }
   ],
   "source": [
    "a=[1,2,3,4,5]\n",
    "b=[i for i in a]\n",
    "print(b)"
   ]
  },
  {
   "cell_type": "code",
   "execution_count": 34,
   "id": "c074b0bd",
   "metadata": {},
   "outputs": [
    {
     "name": "stdout",
     "output_type": "stream",
     "text": [
      "[1, 2, 3, 4, 5]\n"
     ]
    }
   ],
   "source": [
    "a=[1,2,3,4,5]\n",
    "b=[i for i in a]\n",
    "print(b)"
   ]
  },
  {
   "cell_type": "code",
   "execution_count": 35,
   "id": "d73e776d",
   "metadata": {},
   "outputs": [
    {
     "name": "stdout",
     "output_type": "stream",
     "text": [
      "[1, 2, 3, 4]\n"
     ]
    }
   ],
   "source": [
    "a=[1,2,3,4]\n",
    "b=[i for i in a]\n",
    "print(b)"
   ]
  },
  {
   "cell_type": "markdown",
   "id": "290449e8",
   "metadata": {},
   "source": [
    "## Normal Technique"
   ]
  },
  {
   "cell_type": "code",
   "execution_count": 36,
   "id": "fecf6dc6",
   "metadata": {},
   "outputs": [
    {
     "name": "stdout",
     "output_type": "stream",
     "text": [
      "[1, 8, 27, 64]\n"
     ]
    }
   ],
   "source": [
    "## Normal techinque\n",
    "cubes=[ ]\n",
    "for i in range(1,5):\n",
    "    cubes.append(i**3)\n",
    "print(cubes)"
   ]
  },
  {
   "cell_type": "code",
   "execution_count": 37,
   "id": "0b5146ad",
   "metadata": {},
   "outputs": [
    {
     "name": "stdout",
     "output_type": "stream",
     "text": [
      "[1, 8, 27, 64]\n"
     ]
    }
   ],
   "source": [
    "cubes=[]\n",
    "for i in range(1,5):\n",
    "    cubes.append(i**3)\n",
    "print(cubes)"
   ]
  },
  {
   "cell_type": "code",
   "execution_count": 40,
   "id": "f00bf1eb",
   "metadata": {},
   "outputs": [
    {
     "name": "stdout",
     "output_type": "stream",
     "text": [
      "[1, 8, 27, 64]\n"
     ]
    }
   ],
   "source": [
    "cubes=[]\n",
    "for i in range(1,5):\n",
    "    cubes.append(i**3)\n",
    "print(cubes)"
   ]
  },
  {
   "cell_type": "code",
   "execution_count": 41,
   "id": "250262b3",
   "metadata": {},
   "outputs": [
    {
     "name": "stdout",
     "output_type": "stream",
     "text": [
      "[1, 8, 27, 64]\n"
     ]
    }
   ],
   "source": [
    "## functions\n",
    "def fun():\n",
    "    cubes=[ ]\n",
    "    for i in range(1,5):\n",
    "        cubes.append(i**3)\n",
    "    return cubes\n",
    "sol=fun()\n",
    "print(sol)"
   ]
  },
  {
   "cell_type": "code",
   "execution_count": 42,
   "id": "4d2cc5a3",
   "metadata": {},
   "outputs": [
    {
     "name": "stdout",
     "output_type": "stream",
     "text": [
      "[1, 8, 27, 64]\n"
     ]
    }
   ],
   "source": [
    "def fun():\n",
    "    cubes=[ ]\n",
    "    for i in range(1,5):\n",
    "        cubes.append(i**3)\n",
    "    return cubes\n",
    "sol=fun()\n",
    "print(sol)"
   ]
  },
  {
   "cell_type": "code",
   "execution_count": 43,
   "id": "19b4cf74",
   "metadata": {},
   "outputs": [
    {
     "name": "stdout",
     "output_type": "stream",
     "text": [
      "[1, 8, 27, 64]\n"
     ]
    }
   ],
   "source": [
    "## List comprehension\n",
    "sol=[i**3 for i in range(1,5)]\n",
    "print(sol)"
   ]
  },
  {
   "cell_type": "code",
   "execution_count": 45,
   "id": "34bf8b78",
   "metadata": {},
   "outputs": [
    {
     "name": "stdout",
     "output_type": "stream",
     "text": [
      "[1, 8, 27, 64]\n"
     ]
    }
   ],
   "source": [
    "sol=[i**3 for i in range(1,5)]\n",
    "print(sol)"
   ]
  },
  {
   "cell_type": "markdown",
   "id": "30e4eb15",
   "metadata": {},
   "source": [
    "## Finding Even Values"
   ]
  },
  {
   "cell_type": "code",
   "execution_count": 46,
   "id": "4a8ba91f",
   "metadata": {},
   "outputs": [
    {
     "name": "stdout",
     "output_type": "stream",
     "text": [
      "[2, 4, 6, 8, 10]\n"
     ]
    }
   ],
   "source": [
    "sol=[i for i in range(1,11) if i%2==0]\n",
    "print(sol)"
   ]
  },
  {
   "cell_type": "code",
   "execution_count": 47,
   "id": "c7312835",
   "metadata": {},
   "outputs": [
    {
     "name": "stdout",
     "output_type": "stream",
     "text": [
      "[2, 4, 6, 8, 10]\n"
     ]
    }
   ],
   "source": [
    "sol=[i for i in range(1,11) if i%2==0]\n",
    "print(sol)"
   ]
  },
  {
   "cell_type": "code",
   "execution_count": 48,
   "id": "dc7d09c3",
   "metadata": {},
   "outputs": [
    {
     "name": "stdout",
     "output_type": "stream",
     "text": [
      "[1, 4, 27, 16]\n"
     ]
    }
   ],
   "source": [
    "sol=[i**2 if i%2==0 else i**3 for i in range(1,5)]\n",
    "print(sol)"
   ]
  },
  {
   "cell_type": "code",
   "execution_count": 49,
   "id": "20642e13",
   "metadata": {},
   "outputs": [
    {
     "name": "stdout",
     "output_type": "stream",
     "text": [
      "[1, 4, 27, 16]\n"
     ]
    }
   ],
   "source": [
    "sol=[i**2 if i%2==0 else i**3 for i in range(1,5)]\n",
    "print(sol)"
   ]
  },
  {
   "cell_type": "code",
   "execution_count": 50,
   "id": "8c50fe60",
   "metadata": {},
   "outputs": [
    {
     "name": "stdout",
     "output_type": "stream",
     "text": [
      "[1, 4, 27, 16]\n"
     ]
    }
   ],
   "source": [
    "sol=[i**2 if i%2==0 else i**3 for i in range(1,5)]\n",
    "print(sol)"
   ]
  },
  {
   "cell_type": "code",
   "execution_count": 59,
   "id": "ae67a2ac",
   "metadata": {},
   "outputs": [
    {
     "name": "stdout",
     "output_type": "stream",
     "text": [
      "[4, 16]\n",
      "[1, 27]\n"
     ]
    }
   ],
   "source": [
    "even = []\n",
    "odd = []\n",
    "for i in range(1,5):\n",
    "    if i % 2 == 0:\n",
    "        even.append(i**2)\n",
    "    else:\n",
    "        odd.append(i**3)\n",
    "        \n",
    "    \n",
    "print(even)\n",
    "print(odd)"
   ]
  },
  {
   "cell_type": "code",
   "execution_count": 62,
   "id": "81fcf522",
   "metadata": {},
   "outputs": [
    {
     "name": "stdout",
     "output_type": "stream",
     "text": [
      "[4, 16]\n",
      "[1, 27]\n"
     ]
    }
   ],
   "source": [
    "even=[]\n",
    "odd=[]\n",
    "for i in range(1,5):\n",
    "    if i % 2==0:\n",
    "        even.append(i**2)\n",
    "    else:\n",
    "        odd.append(i**3)\n",
    "print(even)\n",
    "print(odd)"
   ]
  },
  {
   "cell_type": "markdown",
   "id": "6de584b6",
   "metadata": {},
   "source": [
    "## Dictionary Comprehension{}"
   ]
  },
  {
   "cell_type": "code",
   "execution_count": 63,
   "id": "1c5ceafa",
   "metadata": {},
   "outputs": [
    {
     "data": {
      "text/plain": [
       "{'name': 'python', 'age': 22}"
      ]
     },
     "execution_count": 63,
     "metadata": {},
     "output_type": "execute_result"
    }
   ],
   "source": [
    "## dictionary comprehension\n",
    "a={'name':'python','age':22}\n",
    "a"
   ]
  },
  {
   "cell_type": "code",
   "execution_count": 64,
   "id": "f87e44e2",
   "metadata": {},
   "outputs": [
    {
     "name": "stdout",
     "output_type": "stream",
     "text": [
      "{'fruit': 'apple'}\n"
     ]
    }
   ],
   "source": [
    "a={ }\n",
    "a['fruit']='apple'\n",
    "print(a)"
   ]
  },
  {
   "cell_type": "code",
   "execution_count": 65,
   "id": "c14a091c",
   "metadata": {},
   "outputs": [
    {
     "name": "stdout",
     "output_type": "stream",
     "text": [
      "{1: 1, 2: 8, 3: 27, 4: 64}\n"
     ]
    }
   ],
   "source": [
    "a={ }\n",
    "for i in range(1,5):\n",
    "    a[i]=i**3\n",
    "print(a)"
   ]
  },
  {
   "cell_type": "code",
   "execution_count": 66,
   "id": "4adbf7f4",
   "metadata": {},
   "outputs": [
    {
     "name": "stdout",
     "output_type": "stream",
     "text": [
      "{1: 1, 2: 8, 3: 27, 4: 64}\n"
     ]
    }
   ],
   "source": [
    "a={ }\n",
    "for i in range(1,5):\n",
    "    a[i]=i**3\n",
    "print(a)"
   ]
  },
  {
   "cell_type": "markdown",
   "id": "5735d852",
   "metadata": {},
   "source": [
    "## With Dictionary{}"
   ]
  },
  {
   "cell_type": "code",
   "execution_count": 67,
   "id": "9c8b5e8c",
   "metadata": {},
   "outputs": [
    {
     "name": "stdout",
     "output_type": "stream",
     "text": [
      "{1: 1, 2: 8, 3: 27, 4: 64}\n"
     ]
    }
   ],
   "source": [
    "## with dictionary\n",
    "a={i:i**3 for i in range(1,5 )}\n",
    "print(a)"
   ]
  },
  {
   "cell_type": "code",
   "execution_count": 68,
   "id": "72564d48",
   "metadata": {},
   "outputs": [
    {
     "name": "stdout",
     "output_type": "stream",
     "text": [
      "mango 40\n",
      "banana 20\n"
     ]
    }
   ],
   "source": [
    "fruits={'mango':40,'banana':20}\n",
    "for i,j in fruits.items():\n",
    "    print(i,j)"
   ]
  },
  {
   "cell_type": "code",
   "execution_count": 70,
   "id": "cd91c274",
   "metadata": {},
   "outputs": [
    {
     "name": "stdout",
     "output_type": "stream",
     "text": [
      "mango 40\n",
      "banana 20\n"
     ]
    }
   ],
   "source": [
    "fruits={'mango':40,'banana':20}\n",
    "for i,j in fruits.items():\n",
    "    print(i,j)"
   ]
  },
  {
   "cell_type": "code",
   "execution_count": 79,
   "id": "38fab1fa",
   "metadata": {},
   "outputs": [
    {
     "name": "stdout",
     "output_type": "stream",
     "text": [
      "{'mango': 1600, 'banana': 400}\n"
     ]
    }
   ],
   "source": [
    "fruits={'mango':40,'banana':20}\n",
    "sol={i:j**2 for (i,j) in fruits.items()}\n",
    "print(sol)"
   ]
  },
  {
   "cell_type": "code",
   "execution_count": 77,
   "id": "15e4a65a",
   "metadata": {},
   "outputs": [
    {
     "name": "stdout",
     "output_type": "stream",
     "text": [
      "{'mango': 1600, 'banana': 400}\n"
     ]
    }
   ],
   "source": [
    "fruits={'mango':40,'banana':20}\n",
    "sol={i:j **2 for (i, j) in fruits.items()}\n",
    "print(sol)"
   ]
  },
  {
   "cell_type": "code",
   "execution_count": null,
   "id": "135b0ec7",
   "metadata": {},
   "outputs": [],
   "source": [
    "fruits = {\"mange\":40 , 'banana':20}\n",
    "sol = {i:j**2 for (i , j) in fruits.items()}\n",
    "print(sol)"
   ]
  }
 ],
 "metadata": {
  "kernelspec": {
   "display_name": "Python 3",
   "language": "python",
   "name": "python3"
  },
  "language_info": {
   "codemirror_mode": {
    "name": "ipython",
    "version": 3
   },
   "file_extension": ".py",
   "mimetype": "text/x-python",
   "name": "python",
   "nbconvert_exporter": "python",
   "pygments_lexer": "ipython3",
   "version": "3.8.8"
  }
 },
 "nbformat": 4,
 "nbformat_minor": 5
}
